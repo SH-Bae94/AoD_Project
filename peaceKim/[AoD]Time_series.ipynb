{
 "cells": [
  {
   "cell_type": "code",
   "execution_count": 7,
   "id": "259ebe0e",
   "metadata": {
    "collapsed": true
   },
   "outputs": [
    {
     "name": "stdout",
     "output_type": "stream",
     "text": [
      "Requirement already satisfied: opencv-python in c:\\users\\peacekim\\anaconda3\\lib\\site-packages (4.7.0.72)\n",
      "Requirement already satisfied: numpy>=1.17.0 in c:\\users\\peacekim\\anaconda3\\lib\\site-packages (from opencv-python) (1.21.5)\n",
      "Collecting tensorflow\n",
      "  Downloading tensorflow-2.11.0-cp39-cp39-win_amd64.whl (1.9 kB)\n",
      "Collecting tensorflow-intel==2.11.0\n",
      "  Downloading tensorflow_intel-2.11.0-cp39-cp39-win_amd64.whl (266.3 MB)\n",
      "Collecting gast<=0.4.0,>=0.2.1\n",
      "  Using cached gast-0.4.0-py3-none-any.whl (9.8 kB)\n",
      "Requirement already satisfied: six>=1.12.0 in c:\\users\\peacekim\\anaconda3\\lib\\site-packages (from tensorflow-intel==2.11.0->tensorflow) (1.16.0)\n",
      "Requirement already satisfied: typing-extensions>=3.6.6 in c:\\users\\peacekim\\anaconda3\\lib\\site-packages (from tensorflow-intel==2.11.0->tensorflow) (4.1.1)\n",
      "Collecting tensorflow-estimator<2.12,>=2.11.0\n",
      "  Using cached tensorflow_estimator-2.11.0-py2.py3-none-any.whl (439 kB)\n",
      "Collecting keras<2.12,>=2.11.0\n",
      "  Using cached keras-2.11.0-py2.py3-none-any.whl (1.7 MB)\n",
      "Collecting flatbuffers>=2.0\n",
      "  Using cached flatbuffers-23.1.21-py2.py3-none-any.whl (26 kB)\n",
      "Requirement already satisfied: numpy>=1.20 in c:\\users\\peacekim\\anaconda3\\lib\\site-packages (from tensorflow-intel==2.11.0->tensorflow) (1.21.5)\n",
      "Requirement already satisfied: protobuf<3.20,>=3.9.2 in c:\\users\\peacekim\\anaconda3\\lib\\site-packages (from tensorflow-intel==2.11.0->tensorflow) (3.19.1)\n",
      "Requirement already satisfied: packaging in c:\\users\\peacekim\\anaconda3\\lib\\site-packages (from tensorflow-intel==2.11.0->tensorflow) (21.3)\n",
      "Collecting termcolor>=1.1.0\n",
      "  Using cached termcolor-2.2.0-py3-none-any.whl (6.6 kB)\n",
      "Requirement already satisfied: grpcio<2.0,>=1.24.3 in c:\\users\\peacekim\\anaconda3\\lib\\site-packages (from tensorflow-intel==2.11.0->tensorflow) (1.42.0)\n",
      "Collecting astunparse>=1.6.0\n",
      "  Using cached astunparse-1.6.3-py2.py3-none-any.whl (12 kB)\n",
      "Collecting libclang>=13.0.0\n",
      "  Using cached libclang-15.0.6.1-py2.py3-none-win_amd64.whl (23.2 MB)\n",
      "Collecting absl-py>=1.0.0\n",
      "  Using cached absl_py-1.4.0-py3-none-any.whl (126 kB)\n",
      "Requirement already satisfied: wrapt>=1.11.0 in c:\\users\\peacekim\\anaconda3\\lib\\site-packages (from tensorflow-intel==2.11.0->tensorflow) (1.12.1)\n",
      "Collecting google-pasta>=0.1.1\n",
      "  Using cached google_pasta-0.2.0-py3-none-any.whl (57 kB)\n",
      "Collecting tensorboard<2.12,>=2.11\n",
      "  Using cached tensorboard-2.11.2-py3-none-any.whl (6.0 MB)\n",
      "Collecting tensorflow-io-gcs-filesystem>=0.23.1\n",
      "  Downloading tensorflow_io_gcs_filesystem-0.31.0-cp39-cp39-win_amd64.whl (1.5 MB)\n",
      "Requirement already satisfied: setuptools in c:\\users\\peacekim\\anaconda3\\lib\\site-packages (from tensorflow-intel==2.11.0->tensorflow) (61.2.0)\n",
      "Collecting opt-einsum>=2.3.2\n",
      "  Using cached opt_einsum-3.3.0-py3-none-any.whl (65 kB)\n",
      "Requirement already satisfied: h5py>=2.9.0 in c:\\users\\peacekim\\anaconda3\\lib\\site-packages (from tensorflow-intel==2.11.0->tensorflow) (3.6.0)\n",
      "Requirement already satisfied: wheel<1.0,>=0.23.0 in c:\\users\\peacekim\\anaconda3\\lib\\site-packages (from astunparse>=1.6.0->tensorflow-intel==2.11.0->tensorflow) (0.37.1)\n",
      "Requirement already satisfied: werkzeug>=1.0.1 in c:\\users\\peacekim\\anaconda3\\lib\\site-packages (from tensorboard<2.12,>=2.11->tensorflow-intel==2.11.0->tensorflow) (2.0.3)\n",
      "Collecting google-auth-oauthlib<0.5,>=0.4.1\n",
      "  Using cached google_auth_oauthlib-0.4.6-py2.py3-none-any.whl (18 kB)\n",
      "Collecting tensorboard-plugin-wit>=1.6.0\n",
      "  Using cached tensorboard_plugin_wit-1.8.1-py3-none-any.whl (781 kB)\n",
      "Requirement already satisfied: google-auth<3,>=1.6.3 in c:\\users\\peacekim\\anaconda3\\lib\\site-packages (from tensorboard<2.12,>=2.11->tensorflow-intel==2.11.0->tensorflow) (1.33.0)\n",
      "Requirement already satisfied: markdown>=2.6.8 in c:\\users\\peacekim\\anaconda3\\lib\\site-packages (from tensorboard<2.12,>=2.11->tensorflow-intel==2.11.0->tensorflow) (3.3.4)\n",
      "Requirement already satisfied: requests<3,>=2.21.0 in c:\\users\\peacekim\\anaconda3\\lib\\site-packages (from tensorboard<2.12,>=2.11->tensorflow-intel==2.11.0->tensorflow) (2.27.1)\n",
      "Collecting tensorboard-data-server<0.7.0,>=0.6.0\n",
      "  Using cached tensorboard_data_server-0.6.1-py3-none-any.whl (2.4 kB)\n",
      "Requirement already satisfied: rsa<5,>=3.1.4 in c:\\users\\peacekim\\anaconda3\\lib\\site-packages (from google-auth<3,>=1.6.3->tensorboard<2.12,>=2.11->tensorflow-intel==2.11.0->tensorflow) (4.7.2)\n",
      "Requirement already satisfied: cachetools<5.0,>=2.0.0 in c:\\users\\peacekim\\anaconda3\\lib\\site-packages (from google-auth<3,>=1.6.3->tensorboard<2.12,>=2.11->tensorflow-intel==2.11.0->tensorflow) (4.2.2)\n",
      "Requirement already satisfied: pyasn1-modules>=0.2.1 in c:\\users\\peacekim\\anaconda3\\lib\\site-packages (from google-auth<3,>=1.6.3->tensorboard<2.12,>=2.11->tensorflow-intel==2.11.0->tensorflow) (0.2.8)\n",
      "Collecting requests-oauthlib>=0.7.0\n",
      "  Using cached requests_oauthlib-1.3.1-py2.py3-none-any.whl (23 kB)\n",
      "Requirement already satisfied: pyasn1<0.5.0,>=0.4.6 in c:\\users\\peacekim\\anaconda3\\lib\\site-packages (from pyasn1-modules>=0.2.1->google-auth<3,>=1.6.3->tensorboard<2.12,>=2.11->tensorflow-intel==2.11.0->tensorflow) (0.4.8)\n",
      "Requirement already satisfied: charset-normalizer~=2.0.0 in c:\\users\\peacekim\\anaconda3\\lib\\site-packages (from requests<3,>=2.21.0->tensorboard<2.12,>=2.11->tensorflow-intel==2.11.0->tensorflow) (2.0.4)\n",
      "Requirement already satisfied: idna<4,>=2.5 in c:\\users\\peacekim\\anaconda3\\lib\\site-packages (from requests<3,>=2.21.0->tensorboard<2.12,>=2.11->tensorflow-intel==2.11.0->tensorflow) (3.3)\n",
      "Requirement already satisfied: certifi>=2017.4.17 in c:\\users\\peacekim\\anaconda3\\lib\\site-packages (from requests<3,>=2.21.0->tensorboard<2.12,>=2.11->tensorflow-intel==2.11.0->tensorflow) (2021.10.8)\n",
      "Requirement already satisfied: urllib3<1.27,>=1.21.1 in c:\\users\\peacekim\\anaconda3\\lib\\site-packages (from requests<3,>=2.21.0->tensorboard<2.12,>=2.11->tensorflow-intel==2.11.0->tensorflow) (1.26.9)\n",
      "Collecting oauthlib>=3.0.0\n",
      "  Using cached oauthlib-3.2.2-py3-none-any.whl (151 kB)\n",
      "Requirement already satisfied: pyparsing!=3.0.5,>=2.0.2 in c:\\users\\peacekim\\anaconda3\\lib\\site-packages (from packaging->tensorflow-intel==2.11.0->tensorflow) (3.0.4)\n",
      "Installing collected packages: oauthlib, requests-oauthlib, tensorboard-plugin-wit, tensorboard-data-server, google-auth-oauthlib, absl-py, termcolor, tensorflow-io-gcs-filesystem, tensorflow-estimator, tensorboard, opt-einsum, libclang, keras, google-pasta, gast, flatbuffers, astunparse, tensorflow-intel, tensorflow\n",
      "Successfully installed absl-py-1.4.0 astunparse-1.6.3 flatbuffers-23.1.21 gast-0.4.0 google-auth-oauthlib-0.4.6 google-pasta-0.2.0 keras-2.11.0 libclang-15.0.6.1 oauthlib-3.2.2 opt-einsum-3.3.0 requests-oauthlib-1.3.1 tensorboard-2.11.2 tensorboard-data-server-0.6.1 tensorboard-plugin-wit-1.8.1 tensorflow-2.11.0 tensorflow-estimator-2.11.0 tensorflow-intel-2.11.0 tensorflow-io-gcs-filesystem-0.31.0 termcolor-2.2.0\n"
     ]
    }
   ],
   "source": [
    "!pip install opencv-python\n",
    "!pip install tensorflow"
   ]
  },
  {
   "cell_type": "code",
   "execution_count": 8,
   "id": "7a5c349a",
   "metadata": {},
   "outputs": [],
   "source": [
    "import numpy as np\n",
    "import matplotlib.pyplot as plt\n",
    "import pandas as pd\n",
    "import time \n",
    "\n",
    "from sklearn.preprocessing import StandardScaler\n",
    "from sklearn import metrics\n",
    "from tqdm.notebook import trange\n",
    "from TaPR_pkg import etapr\n",
    "from pathlib import Path\n",
    "from tensorflow import keras\n",
    "from tensorflow.keras import layers\n",
    "from tensorflow.keras.models import load_model\n",
    "from tensorflow.keras.callbacks import EarlyStopping\n"
   ]
  },
  {
   "cell_type": "code",
   "execution_count": 9,
   "id": "162758e1",
   "metadata": {},
   "outputs": [],
   "source": [
    "# 데이터셋 불러오기\n",
    "\n",
    "TRAIN_DATASET = sorted([x for x in Path(\"D:\\\\AI\\\\data\\\\dataset\\\\HAI 2.0\\\\training\").glob(\"*.csv\")])\n",
    "TEST_DATASET = sorted([x for x in Path(\"D:\\\\AI\\\\data\\\\dataset\\\\HAI 2.0\\\\testing\").glob(\"*.csv\")])\n",
    "VALIDATION_DATASET = sorted([x for x in Path(\"D:\\\\AI\\\\data\\\\dataset\\\\HAI 2.0\\\\validation\").glob(\"*.csv\")])\n"
   ]
  },
  {
   "cell_type": "code",
   "execution_count": 10,
   "id": "0415e28e",
   "metadata": {},
   "outputs": [
    {
     "data": {
      "text/plain": [
       "Index(['C01', 'C02', 'C03', 'C04', 'C05', 'C06', 'C07', 'C08', 'C09', 'C10',\n",
       "       'C11', 'C12', 'C13', 'C14', 'C15', 'C16', 'C17', 'C18', 'C19', 'C20',\n",
       "       'C21', 'C22', 'C23', 'C24', 'C25', 'C26', 'C27', 'C28', 'C29', 'C30',\n",
       "       'C31', 'C32', 'C33', 'C34', 'C35', 'C36', 'C37', 'C38', 'C39', 'C40',\n",
       "       'C41', 'C42', 'C43', 'C44', 'C45', 'C46', 'C47', 'C48', 'C49', 'C50',\n",
       "       'C51', 'C52', 'C53', 'C54', 'C55', 'C56', 'C57', 'C58', 'C59', 'C60',\n",
       "       'C61', 'C62', 'C63', 'C64', 'C65', 'C66', 'C67', 'C68', 'C69', 'C70',\n",
       "       'C71', 'C72', 'C73', 'C74', 'C75', 'C76', 'C77', 'C78', 'C79'],\n",
       "      dtype='object')"
      ]
     },
     "execution_count": 10,
     "metadata": {},
     "output_type": "execute_result"
    }
   ],
   "source": [
    "def dataframe_from_csv(target):\n",
    "    return pd.read_csv(target,engine='python').rename(columns=lambda x: x.strip())\n",
    "\n",
    "def dataframe_from_csvs(targets):\n",
    "    return pd.concat([dataframe_from_csv(x) for x in targets])\n",
    "\n",
    "TRAIN_DF_RAW = dataframe_from_csvs(TRAIN_DATASET)\n",
    "\n",
    "TIMESTAMP_FIELD = 'time'\n",
    "IDSTAMP_FIELD ='id'\n",
    "ATTACK_FIELD = 'attack'\n",
    "VALID_COLUMNS_IN_TRAIN_DATASET = TRAIN_DF_RAW.columns.drop([TIMESTAMP_FIELD])\n",
    "VALID_COLUMNS_IN_TRAIN_DATASET"
   ]
  },
  {
   "cell_type": "code",
   "execution_count": 11,
   "id": "5c7b10fc",
   "metadata": {},
   "outputs": [
    {
     "name": "stdout",
     "output_type": "stream",
     "text": [
      "[[0.37895253 0.         0.         ... 0.2650172  1.         0.5672542 ]\n",
      " [0.37845883 0.         0.         ... 0.2504694  1.         0.5066231 ]\n",
      " [0.37845883 0.         0.         ... 0.25502798 1.         0.46494597]\n",
      " ...\n",
      " [0.30434805 0.         0.         ... 0.23551878 0.26161984 0.625875  ]\n",
      " [0.3068182  0.         0.         ... 0.26957628 0.26161984 0.6820907 ]\n",
      " [0.30484188 0.         0.         ... 0.29337597 0.26161984 0.7588398 ]]\n"
     ]
    },
    {
     "data": {
      "text/plain": [
       "(921603, 1, 79)"
      ]
     },
     "execution_count": 11,
     "metadata": {},
     "output_type": "execute_result"
    }
   ],
   "source": [
    "# 데이터 정규화\n",
    "TAG_MIN = TRAIN_DF_RAW[VALID_COLUMNS_IN_TRAIN_DATASET].min()\n",
    "TAG_MAX = TRAIN_DF_RAW[VALID_COLUMNS_IN_TRAIN_DATASET].max()\n",
    "\n",
    "def normalize(df):\n",
    "    ndf = df.copy()\n",
    "    for c in df.columns:\n",
    "        if TAG_MIN[c] == TAG_MAX[c]:\n",
    "            ndf[c] = df[c] - TAG_MIN[c]\n",
    "        else:\n",
    "            ndf[c] = (df[c]- TAG_MIN[c]) / (TAG_MAX[c] - TAG_MIN[c])\n",
    "    return ndf\n",
    "\n",
    "TRAIN_DF = normalize(TRAIN_DF_RAW[VALID_COLUMNS_IN_TRAIN_DATASET])\n",
    "\n",
    "def boundary_check(df):\n",
    "    x = np.array(df, dtype= np.float32)\n",
    "    print(x)\n",
    "    return np.any(x >1.0),np.any(x <0), np.any(np.isnan(x))\n",
    "\n",
    "boundary_check(TRAIN_DF)\n",
    "\n",
    "def temporalize(X, y, timesteps):\n",
    "    output_X = []\n",
    "    output_y = []\n",
    "    for i in range(len(X) - timesteps -1):\n",
    "        t= []\n",
    "        for j in range(1, timesteps +1):\n",
    "            t.append(X[[i + j + 1], :])\n",
    "        output_X.append(t)\n",
    "        output_y.append(y[i + timesteps + 1])\n",
    "    return np.squeeze(np.array(output_X)), np.array(output_y)\n",
    "\n",
    "train = np.array(TRAIN_DF)\n",
    "x_train = train.reshape(train.shape[0], 1, train.shape[1])\n",
    "x_train.shape"
   ]
  },
  {
   "cell_type": "code",
   "execution_count": 12,
   "id": "14e825bb",
   "metadata": {},
   "outputs": [
    {
     "data": {
      "text/plain": [
       "(921603, 1, 79)"
      ]
     },
     "execution_count": 12,
     "metadata": {},
     "output_type": "execute_result"
    }
   ],
   "source": [
    "#모델 = keras\n",
    "def temporalize(X, y, timesteps):\n",
    "    output_X =[]\n",
    "    output_y =[]\n",
    "    for i in range(len(X) - timesteps - 1):\n",
    "        t =[]\n",
    "        for j in range(1, timesteps + 1):\n",
    "            t.append(X[[(i + j + 1)], :])\n",
    "        output_X.append(t)\n",
    "        output_y.append(y[i + timesteps + 1])\n",
    "    return np.squeeze(np.array(output_X)), np.array(output_y)\n",
    "# reshape = 3차원 배열로 만들어줌 \n",
    "train = np.array(TRAIN_DF)\n",
    "x_train = train.reshape(train.shape[0], 1, train.shape[1])\n",
    "x_train.shape                            "
   ]
  },
  {
   "cell_type": "code",
   "execution_count": 13,
   "id": "d7f455a2",
   "metadata": {},
   "outputs": [],
   "source": [
    "# 모델 \n",
    "#################################\n",
    "# parameter (Conv1D) \n",
    "# filters : 컨볼루션 연산의 output 출력 수 \n",
    "# kernel_size : timestamp를 얼마만큼 볼 것인가 (=window_size)\n",
    "# padding : 한 쪽 방향으로 얼마만큼 padding 할 것인가 \n",
    "# dilation: kernel 내부에서 얼마만큼의 간격으로 kernel을 적용할 것인가\n",
    "# stride : default =1, 컨볼루션 레이어의 이동 크기 \n",
    "\n",
    "#################################\n",
    "# LSTM\n",
    "# unit: 출력 차원층만 설정"
   ]
  },
  {
   "cell_type": "code",
   "execution_count": 14,
   "id": "afcb4e00",
   "metadata": {},
   "outputs": [
    {
     "name": "stdout",
     "output_type": "stream",
     "text": [
      "Model: \"sequential\"\n",
      "_________________________________________________________________\n",
      " Layer (type)                Output Shape              Param #   \n",
      "=================================================================\n",
      " conv1d (Conv1D)             (None, 1, 512)            2589184   \n",
      "                                                                 \n",
      " dense (Dense)               (None, 1, 128)            65664     \n",
      "                                                                 \n",
      " lstm_1 (LSTM)               (None, 64)                49408     \n",
      "                                                                 \n",
      " dense_1 (Dense)             (None, 64)                4160      \n",
      "                                                                 \n",
      " repeat_vector (RepeatVector  (None, 1, 64)            0         \n",
      " )                                                               \n",
      "                                                                 \n",
      " dense_2 (Dense)             (None, 1, 64)             4160      \n",
      "                                                                 \n",
      " lstm_2 (LSTM)               (None, 1, 64)             33024     \n",
      "                                                                 \n",
      " dense_3 (Dense)             (None, 1, 128)            8320      \n",
      "                                                                 \n",
      " conv1d_1 (Conv1D)           (None, 1, 512)            4194816   \n",
      "                                                                 \n",
      " time_distributed (TimeDistr  (None, 1, 79)            40527     \n",
      " ibuted)                                                         \n",
      "                                                                 \n",
      "=================================================================\n",
      "Total params: 6,989,263\n",
      "Trainable params: 6,989,263\n",
      "Non-trainable params: 0\n",
      "_________________________________________________________________\n"
     ]
    }
   ],
   "source": [
    "# 모델 생성\n",
    "def conv_auto_model(x):\n",
    "    n_steps = x.shape[1]\n",
    "    n_features = x.shape[2]\n",
    "    \n",
    "    keras.backend.clear_session()\n",
    "    \n",
    "    model = keras.Sequential(\n",
    "        [\n",
    "            layers.Input(shape=(n_steps, n_features)),\n",
    "            layers.Conv1D(filters=512, kernel_size=64, padding=\"same\", data_format='channels_last',\n",
    "                        dilation_rate =1, activation= \"linear\"),\n",
    "            layers.Dense(128),\n",
    "            layers.LSTM(\n",
    "                units=64, activation=\"relu\", name=\"lstm_1\", return_sequences=False\n",
    "            ),\n",
    "            layers.Dense(64),\n",
    "            layers.RepeatVector(n_steps),\n",
    "            layers.Dense(64),\n",
    "            layers.LSTM(\n",
    "                units= 64, activation=\"relu\", name=\"lstm_2\", return_sequences=True\n",
    "            ),\n",
    "            layers.Dense(128),\n",
    "            layers.Conv1D(filters=512, kernel_size=64, padding='same',data_format='channels_last',\n",
    "                          dilation_rate=1, activation=\"linear\"),\n",
    "            layers.TimeDistributed(layers.Dense(x.shape[2], activation=\"linear\"))\n",
    "        ]\n",
    "    )\n",
    "    return model\n",
    "model= conv_auto_model(x_train)\n",
    "model.compile(optimizer='adam', loss='mse')\n",
    "model.summary()"
   ]
  },
  {
   "cell_type": "code",
   "execution_count": 15,
   "id": "18db52ee",
   "metadata": {},
   "outputs": [
    {
     "name": "stdout",
     "output_type": "stream",
     "text": [
      "Epoch 1/3\n",
      "11521/11521 [==============================] - 4077s 354ms/step - loss: 0.0021 - val_loss: 0.0011\n",
      "Epoch 2/3\n",
      "11521/11521 [==============================] - 4087s 355ms/step - loss: 1.6112e-04 - val_loss: 2.1187e-04\n",
      "Epoch 3/3\n",
      "11521/11521 [==============================] - 4439s 385ms/step - loss: 1.0201e-04 - val_loss: 1.3339e-04\n"
     ]
    }
   ],
   "source": [
    "# 모델 학습하기 \n",
    "early_stopping = EarlyStopping(monitor='val_loss', patience=5)\n",
    "epochs = 3\n",
    "batch =64\n",
    "# fit \n",
    "history = model.fit(x_train, x_train,\n",
    "                    epochs=epochs, batch_size=batch,\n",
    "                    validation_split=0.2, callbacks=[early_stopping]).history\n",
    "\n",
    "model.save('model.h5')"
   ]
  },
  {
   "cell_type": "code",
   "execution_count": 16,
   "id": "81c66574",
   "metadata": {},
   "outputs": [
    {
     "data": {
      "image/png": "[encoded data removed]",
      "text/plain": [
       "<Figure size 432x288 with 1 Axes>"
      ]
     },
     "metadata": {
      "needs_background": "light"
     },
     "output_type": "display_data"
    }
   ],
   "source": [
    "plt.plot(history['loss'],label='train loss')\n",
    "plt.plot(history['val_loss'], label='valid loss')\n",
    "plt.legend()\n",
    "plt.xlabel('Epopch');plt.ylabel('loss')\n",
    "plt.show()"
   ]
  },
  {
   "cell_type": "code",
   "execution_count": 18,
   "id": "971b47b8",
   "metadata": {},
   "outputs": [],
   "source": [
    "model = load_model('model.h5')"
   ]
  },
  {
   "cell_type": "code",
   "execution_count": 20,
   "id": "a25103e3",
   "metadata": {},
   "outputs": [
    {
     "data": {
      "text/html": [
       "<div>\n",
       "<style scoped>\n",
       "    .dataframe tbody tr th:only-of-type {\n",
       "        vertical-align: middle;\n",
       "    }\n",
       "\n",
       "    .dataframe tbody tr th {\n",
       "        vertical-align: top;\n",
       "    }\n",
       "\n",
       "    .dataframe thead th {\n",
       "        text-align: right;\n",
       "    }\n",
       "</style>\n",
       "<table border=\"1\" class=\"dataframe\">\n",
       "  <thead>\n",
       "    <tr style=\"text-align: right;\">\n",
       "      <th></th>\n",
       "      <th>time</th>\n",
       "      <th>C01</th>\n",
       "      <th>C02</th>\n",
       "      <th>C03</th>\n",
       "      <th>C04</th>\n",
       "      <th>C05</th>\n",
       "      <th>C06</th>\n",
       "      <th>C07</th>\n",
       "      <th>C08</th>\n",
       "      <th>C09</th>\n",
       "      <th>...</th>\n",
       "      <th>C71</th>\n",
       "      <th>C72</th>\n",
       "      <th>C73</th>\n",
       "      <th>C74</th>\n",
       "      <th>C75</th>\n",
       "      <th>C76</th>\n",
       "      <th>C77</th>\n",
       "      <th>C78</th>\n",
       "      <th>C79</th>\n",
       "      <th>attack</th>\n",
       "    </tr>\n",
       "  </thead>\n",
       "  <tbody>\n",
       "    <tr>\n",
       "      <th>0</th>\n",
       "      <td>2020-07-07 15:00:00</td>\n",
       "      <td>402.70947</td>\n",
       "      <td>12.0</td>\n",
       "      <td>10</td>\n",
       "      <td>51.95007</td>\n",
       "      <td>-1.0189</td>\n",
       "      <td>-1.86768</td>\n",
       "      <td>789.76508</td>\n",
       "      <td>28.03162</td>\n",
       "      <td>688</td>\n",
       "      <td>...</td>\n",
       "      <td>0.0</td>\n",
       "      <td>1.34293</td>\n",
       "      <td>10.89290</td>\n",
       "      <td>34.88770</td>\n",
       "      <td>12.26196</td>\n",
       "      <td>380.31683</td>\n",
       "      <td>386.26666</td>\n",
       "      <td>32.59527</td>\n",
       "      <td>5.6330</td>\n",
       "      <td>0</td>\n",
       "    </tr>\n",
       "    <tr>\n",
       "      <th>1</th>\n",
       "      <td>2020-07-07 15:00:01</td>\n",
       "      <td>402.81174</td>\n",
       "      <td>12.0</td>\n",
       "      <td>10</td>\n",
       "      <td>51.96533</td>\n",
       "      <td>-1.2637</td>\n",
       "      <td>-1.86768</td>\n",
       "      <td>789.13147</td>\n",
       "      <td>28.02301</td>\n",
       "      <td>648</td>\n",
       "      <td>...</td>\n",
       "      <td>0.0</td>\n",
       "      <td>1.34216</td>\n",
       "      <td>10.80512</td>\n",
       "      <td>34.88770</td>\n",
       "      <td>12.26196</td>\n",
       "      <td>380.02747</td>\n",
       "      <td>386.30286</td>\n",
       "      <td>32.59527</td>\n",
       "      <td>5.4158</td>\n",
       "      <td>0</td>\n",
       "    </tr>\n",
       "    <tr>\n",
       "      <th>2</th>\n",
       "      <td>2020-07-07 15:00:02</td>\n",
       "      <td>402.76062</td>\n",
       "      <td>12.0</td>\n",
       "      <td>10</td>\n",
       "      <td>51.96533</td>\n",
       "      <td>-1.5398</td>\n",
       "      <td>-1.86768</td>\n",
       "      <td>785.81653</td>\n",
       "      <td>28.02993</td>\n",
       "      <td>616</td>\n",
       "      <td>...</td>\n",
       "      <td>0.0</td>\n",
       "      <td>1.34369</td>\n",
       "      <td>10.80029</td>\n",
       "      <td>34.88770</td>\n",
       "      <td>12.26196</td>\n",
       "      <td>381.52850</td>\n",
       "      <td>389.73883</td>\n",
       "      <td>32.59527</td>\n",
       "      <td>5.5532</td>\n",
       "      <td>0</td>\n",
       "    </tr>\n",
       "    <tr>\n",
       "      <th>3</th>\n",
       "      <td>2020-07-07 15:00:03</td>\n",
       "      <td>402.81174</td>\n",
       "      <td>12.0</td>\n",
       "      <td>10</td>\n",
       "      <td>51.98822</td>\n",
       "      <td>-1.6212</td>\n",
       "      <td>-1.86768</td>\n",
       "      <td>785.42438</td>\n",
       "      <td>28.02993</td>\n",
       "      <td>584</td>\n",
       "      <td>...</td>\n",
       "      <td>0.0</td>\n",
       "      <td>1.34445</td>\n",
       "      <td>10.80579</td>\n",
       "      <td>34.88770</td>\n",
       "      <td>12.26196</td>\n",
       "      <td>382.08911</td>\n",
       "      <td>388.94311</td>\n",
       "      <td>32.59527</td>\n",
       "      <td>5.7833</td>\n",
       "      <td>0</td>\n",
       "    </tr>\n",
       "    <tr>\n",
       "      <th>4</th>\n",
       "      <td>2020-07-07 15:00:04</td>\n",
       "      <td>402.91394</td>\n",
       "      <td>12.0</td>\n",
       "      <td>10</td>\n",
       "      <td>51.90429</td>\n",
       "      <td>-1.5631</td>\n",
       "      <td>-1.86768</td>\n",
       "      <td>782.99249</td>\n",
       "      <td>28.02990</td>\n",
       "      <td>552</td>\n",
       "      <td>...</td>\n",
       "      <td>0.0</td>\n",
       "      <td>1.34293</td>\n",
       "      <td>10.81415</td>\n",
       "      <td>34.90295</td>\n",
       "      <td>12.26196</td>\n",
       "      <td>383.44543</td>\n",
       "      <td>389.72082</td>\n",
       "      <td>32.59527</td>\n",
       "      <td>6.0309</td>\n",
       "      <td>0</td>\n",
       "    </tr>\n",
       "    <tr>\n",
       "      <th>...</th>\n",
       "      <td>...</td>\n",
       "      <td>...</td>\n",
       "      <td>...</td>\n",
       "      <td>...</td>\n",
       "      <td>...</td>\n",
       "      <td>...</td>\n",
       "      <td>...</td>\n",
       "      <td>...</td>\n",
       "      <td>...</td>\n",
       "      <td>...</td>\n",
       "      <td>...</td>\n",
       "      <td>...</td>\n",
       "      <td>...</td>\n",
       "      <td>...</td>\n",
       "      <td>...</td>\n",
       "      <td>...</td>\n",
       "      <td>...</td>\n",
       "      <td>...</td>\n",
       "      <td>...</td>\n",
       "      <td>...</td>\n",
       "      <td>...</td>\n",
       "    </tr>\n",
       "    <tr>\n",
       "      <th>43196</th>\n",
       "      <td>2020-07-08 02:59:56</td>\n",
       "      <td>397.08661</td>\n",
       "      <td>12.0</td>\n",
       "      <td>10</td>\n",
       "      <td>66.58325</td>\n",
       "      <td>-1.2052</td>\n",
       "      <td>-1.83716</td>\n",
       "      <td>786.93738</td>\n",
       "      <td>28.03250</td>\n",
       "      <td>0</td>\n",
       "      <td>...</td>\n",
       "      <td>0.0</td>\n",
       "      <td>1.35971</td>\n",
       "      <td>16.19496</td>\n",
       "      <td>35.22338</td>\n",
       "      <td>12.01019</td>\n",
       "      <td>390.13672</td>\n",
       "      <td>394.91107</td>\n",
       "      <td>31.81634</td>\n",
       "      <td>5.2977</td>\n",
       "      <td>0</td>\n",
       "    </tr>\n",
       "    <tr>\n",
       "      <th>43197</th>\n",
       "      <td>2020-07-08 02:59:57</td>\n",
       "      <td>397.18887</td>\n",
       "      <td>12.0</td>\n",
       "      <td>10</td>\n",
       "      <td>66.58325</td>\n",
       "      <td>-0.9256</td>\n",
       "      <td>-1.83716</td>\n",
       "      <td>783.44989</td>\n",
       "      <td>28.02304</td>\n",
       "      <td>0</td>\n",
       "      <td>...</td>\n",
       "      <td>0.0</td>\n",
       "      <td>1.35971</td>\n",
       "      <td>16.23927</td>\n",
       "      <td>35.23864</td>\n",
       "      <td>12.01019</td>\n",
       "      <td>390.24518</td>\n",
       "      <td>397.35248</td>\n",
       "      <td>31.81634</td>\n",
       "      <td>5.3188</td>\n",
       "      <td>0</td>\n",
       "    </tr>\n",
       "    <tr>\n",
       "      <th>43198</th>\n",
       "      <td>2020-07-08 02:59:58</td>\n",
       "      <td>397.13776</td>\n",
       "      <td>12.0</td>\n",
       "      <td>10</td>\n",
       "      <td>66.58325</td>\n",
       "      <td>-0.7843</td>\n",
       "      <td>-1.83716</td>\n",
       "      <td>784.86780</td>\n",
       "      <td>28.02814</td>\n",
       "      <td>0</td>\n",
       "      <td>...</td>\n",
       "      <td>0.0</td>\n",
       "      <td>1.35818</td>\n",
       "      <td>16.20675</td>\n",
       "      <td>35.23864</td>\n",
       "      <td>12.01019</td>\n",
       "      <td>390.46222</td>\n",
       "      <td>396.70142</td>\n",
       "      <td>31.81634</td>\n",
       "      <td>5.1800</td>\n",
       "      <td>0</td>\n",
       "    </tr>\n",
       "    <tr>\n",
       "      <th>43199</th>\n",
       "      <td>2020-07-08 02:59:59</td>\n",
       "      <td>397.34222</td>\n",
       "      <td>12.0</td>\n",
       "      <td>10</td>\n",
       "      <td>66.58325</td>\n",
       "      <td>-0.7646</td>\n",
       "      <td>-1.83716</td>\n",
       "      <td>785.51416</td>\n",
       "      <td>28.02294</td>\n",
       "      <td>0</td>\n",
       "      <td>...</td>\n",
       "      <td>0.0</td>\n",
       "      <td>1.35818</td>\n",
       "      <td>16.17168</td>\n",
       "      <td>35.25391</td>\n",
       "      <td>12.01019</td>\n",
       "      <td>391.78241</td>\n",
       "      <td>397.73218</td>\n",
       "      <td>31.81634</td>\n",
       "      <td>4.8763</td>\n",
       "      <td>0</td>\n",
       "    </tr>\n",
       "    <tr>\n",
       "      <th>43200</th>\n",
       "      <td>2020-07-08 03:00:00</td>\n",
       "      <td>397.49557</td>\n",
       "      <td>12.0</td>\n",
       "      <td>10</td>\n",
       "      <td>66.58325</td>\n",
       "      <td>-0.9083</td>\n",
       "      <td>-1.83716</td>\n",
       "      <td>786.98297</td>\n",
       "      <td>28.02990</td>\n",
       "      <td>0</td>\n",
       "      <td>...</td>\n",
       "      <td>0.0</td>\n",
       "      <td>1.35895</td>\n",
       "      <td>16.10412</td>\n",
       "      <td>35.22338</td>\n",
       "      <td>12.01019</td>\n",
       "      <td>391.31219</td>\n",
       "      <td>397.24390</td>\n",
       "      <td>31.81634</td>\n",
       "      <td>4.5790</td>\n",
       "      <td>0</td>\n",
       "    </tr>\n",
       "  </tbody>\n",
       "</table>\n",
       "<p>43201 rows × 81 columns</p>\n",
       "</div>"
      ],
      "text/plain": [
       "                      time        C01   C02  C03       C04     C05      C06  \\\n",
       "0      2020-07-07 15:00:00  402.70947  12.0   10  51.95007 -1.0189 -1.86768   \n",
       "1      2020-07-07 15:00:01  402.81174  12.0   10  51.96533 -1.2637 -1.86768   \n",
       "2      2020-07-07 15:00:02  402.76062  12.0   10  51.96533 -1.5398 -1.86768   \n",
       "3      2020-07-07 15:00:03  402.81174  12.0   10  51.98822 -1.6212 -1.86768   \n",
       "4      2020-07-07 15:00:04  402.91394  12.0   10  51.90429 -1.5631 -1.86768   \n",
       "...                    ...        ...   ...  ...       ...     ...      ...   \n",
       "43196  2020-07-08 02:59:56  397.08661  12.0   10  66.58325 -1.2052 -1.83716   \n",
       "43197  2020-07-08 02:59:57  397.18887  12.0   10  66.58325 -0.9256 -1.83716   \n",
       "43198  2020-07-08 02:59:58  397.13776  12.0   10  66.58325 -0.7843 -1.83716   \n",
       "43199  2020-07-08 02:59:59  397.34222  12.0   10  66.58325 -0.7646 -1.83716   \n",
       "43200  2020-07-08 03:00:00  397.49557  12.0   10  66.58325 -0.9083 -1.83716   \n",
       "\n",
       "             C07       C08  C09  ...  C71      C72       C73       C74  \\\n",
       "0      789.76508  28.03162  688  ...  0.0  1.34293  10.89290  34.88770   \n",
       "1      789.13147  28.02301  648  ...  0.0  1.34216  10.80512  34.88770   \n",
       "2      785.81653  28.02993  616  ...  0.0  1.34369  10.80029  34.88770   \n",
       "3      785.42438  28.02993  584  ...  0.0  1.34445  10.80579  34.88770   \n",
       "4      782.99249  28.02990  552  ...  0.0  1.34293  10.81415  34.90295   \n",
       "...          ...       ...  ...  ...  ...      ...       ...       ...   \n",
       "43196  786.93738  28.03250    0  ...  0.0  1.35971  16.19496  35.22338   \n",
       "43197  783.44989  28.02304    0  ...  0.0  1.35971  16.23927  35.23864   \n",
       "43198  784.86780  28.02814    0  ...  0.0  1.35818  16.20675  35.23864   \n",
       "43199  785.51416  28.02294    0  ...  0.0  1.35818  16.17168  35.25391   \n",
       "43200  786.98297  28.02990    0  ...  0.0  1.35895  16.10412  35.22338   \n",
       "\n",
       "            C75        C76        C77       C78     C79  attack  \n",
       "0      12.26196  380.31683  386.26666  32.59527  5.6330       0  \n",
       "1      12.26196  380.02747  386.30286  32.59527  5.4158       0  \n",
       "2      12.26196  381.52850  389.73883  32.59527  5.5532       0  \n",
       "3      12.26196  382.08911  388.94311  32.59527  5.7833       0  \n",
       "4      12.26196  383.44543  389.72082  32.59527  6.0309       0  \n",
       "...         ...        ...        ...       ...     ...     ...  \n",
       "43196  12.01019  390.13672  394.91107  31.81634  5.2977       0  \n",
       "43197  12.01019  390.24518  397.35248  31.81634  5.3188       0  \n",
       "43198  12.01019  390.46222  396.70142  31.81634  5.1800       0  \n",
       "43199  12.01019  391.78241  397.73218  31.81634  4.8763       0  \n",
       "43200  12.01019  391.31219  397.24390  31.81634  4.5790       0  \n",
       "\n",
       "[43201 rows x 81 columns]"
      ]
     },
     "execution_count": 20,
     "metadata": {},
     "output_type": "execute_result"
    }
   ],
   "source": [
    "# 학습된 모델을 검증 데이터셋에 적용하여 이상 탐지\n",
    "VALIDATION_DF_RAW = dataframe_from_csvs(VALIDATION_DATASET)\n",
    "VALIDATION_DF_RAW.to_csv('VALIDATION_DF_RAW.csv')\n",
    "VALIDATION_DF_RAW"
   ]
  },
  {
   "cell_type": "code",
   "execution_count": 22,
   "id": "7dcc0b7f",
   "metadata": {},
   "outputs": [
    {
     "name": "stdout",
     "output_type": "stream",
     "text": [
      "[[0.45158097 0.         0.         ... 0.5797802  0.52712005 0.4013713 ]\n",
      " [0.45256948 0.         0.         ... 0.5799144  0.52712005 0.32340166]\n",
      " [0.45207536 0.         0.         ... 0.5926521  0.52712005 0.37272498]\n",
      " ...\n",
      " [0.39772758 0.         0.         ... 0.6184636  0.17970447 0.23875508]\n",
      " [0.3997038  0.         0.         ... 0.62228477 0.17970447 0.129734  ]\n",
      " [0.401186   0.         0.         ... 0.62047464 0.17970447 0.02301037]]\n"
     ]
    },
    {
     "data": {
      "text/plain": [
       "(True, True, False)"
      ]
     },
     "execution_count": 22,
     "metadata": {},
     "output_type": "execute_result"
    }
   ],
   "source": [
    "VALIDATION_DF= normalize(VALIDATION_DF_RAW[VALID_COLUMNS_IN_TRAIN_DATASET])\n",
    "boundary_check(VALIDATION_DF)"
   ]
  },
  {
   "cell_type": "code",
   "execution_count": 23,
   "id": "f83034e9",
   "metadata": {
    "collapsed": true
   },
   "outputs": [
    {
     "data": {
      "text/plain": [
       "<AxesSubplot:>"
      ]
     },
     "execution_count": 23,
     "metadata": {},
     "output_type": "execute_result"
    },
    {
     "data": {
      "image/png": "[encoded data removed]",
      "text/plain": [
       "<Figure size 432x288 with 1 Axes>"
      ]
     },
     "metadata": {
      "needs_background": "light"
     },
     "output_type": "display_data"
    }
   ],
   "source": [
    "VALIDATION_DF.plot()"
   ]
  },
  {
   "cell_type": "code",
   "execution_count": 24,
   "id": "163912bb",
   "metadata": {},
   "outputs": [
    {
     "data": {
      "text/plain": [
       "<AxesSubplot:>"
      ]
     },
     "execution_count": 24,
     "metadata": {},
     "output_type": "execute_result"
    },
    {
     "data": {
      "image/png": "[encoded data removed]",
      "text/plain": [
       "<Figure size 432x288 with 1 Axes>"
      ]
     },
     "metadata": {
      "needs_background": "light"
     },
     "output_type": "display_data"
    }
   ],
   "source": [
    "VALIDATION_DF['C75'].plot()"
   ]
  },
  {
   "cell_type": "code",
   "execution_count": 26,
   "id": "dedbec5e",
   "metadata": {},
   "outputs": [],
   "source": [
    "# 데이터 cleaning , valid 그래프를 보고 앞부분 정상인데 값이 튀는 변수가 있어서 조절\n",
    "VALIDATION_DF['C75'][:2110] = 0.95"
   ]
  },
  {
   "cell_type": "code",
   "execution_count": 27,
   "id": "641f363e",
   "metadata": {},
   "outputs": [
    {
     "data": {
      "text/plain": [
       "(43201, 1, 79)"
      ]
     },
     "execution_count": 27,
     "metadata": {},
     "output_type": "execute_result"
    }
   ],
   "source": [
    "val = np.array(VALIDATION_DF)\n",
    "x_val = val.reshape(val.shape[0], 1, val.shape[1])\n",
    "x_val.shape"
   ]
  },
  {
   "cell_type": "code",
   "execution_count": 34,
   "id": "11ff2b92",
   "metadata": {},
   "outputs": [],
   "source": [
    "# flatten() 함수를 이용한 2차원으로 변경하는 함수 \n",
    "# flatten() : 다차원을 1차원으로 변경해주는 내장함수 \n",
    "# 모델의 결과가 3차원이기 때문에 복원된 결과와의 차이를 확인하기 위해 2차원으로 변경해줌\n",
    "# empty : 배열을 생성해줌 \n",
    "\n",
    "def flatten(X):\n",
    "    flattened_X = np.empty((X.shape[0], X.shape[2]))\n",
    "    for i in range(X.shape[0]):\n",
    "        flattened_X[i] = X[i,(X.shape[1]-1),:]\n",
    "    return(flattened_X)\n",
    "\n",
    "def scale(X, scaler):\n",
    "    for i in range(X.shape[0]):\n",
    "        X[i, :, :] = scaler.transform(X[i,:,:])\n",
    "    return X \n"
   ]
  },
  {
   "cell_type": "code",
   "execution_count": 35,
   "id": "c38124c7",
   "metadata": {},
   "outputs": [
    {
     "name": "stdout",
     "output_type": "stream",
     "text": [
      "1351/1351 [==============================] - 7s 5ms/step\n",
      "(43201, 1, 79)\n",
      "(43201, 79)\n",
      "(43201,)\n",
      "7.232614755630493\n"
     ]
    }
   ],
   "source": [
    "# 모델에 의해 재구성된 값을 실제 값과 차이를 구해서 재구성 손실 값을 구해줌 \n",
    "# 정상인 경우 , 재구성손실 값이 적게 나오고 공격인 경우 정규화된 값에서 0과 1을 벗어나기 때문에 재구성 손실 값이 크게 나옴 \n",
    "start = time.time()\n",
    "valid_x_predictions = model.predict(x_val)\n",
    "print(valid_x_predictions.shape)\n",
    "\n",
    "error = flatten(x_val)-flatten(valid_x_predictions)\n",
    "print((flatten(x_val)-flatten(valid_x_predictions)).shape)\n",
    "\n",
    "valid_mse = np.mean(np.power(flatten(x_val)-flatten(valid_x_predictions),2), axis =1)\n",
    "print(valid_mse.shape)\n",
    "print(time.time()-start)"
   ]
  },
  {
   "cell_type": "code",
   "execution_count": 37,
   "id": "cbe5dd91",
   "metadata": {},
   "outputs": [
    {
     "data": {
      "text/plain": [
       "<matplotlib.legend.Legend at 0x2913cfe72e0>"
      ]
     },
     "execution_count": 37,
     "metadata": {},
     "output_type": "execute_result"
    },
    {
     "data": {
      "image/png": "[encoded data removed]",
      "text/plain": [
       "<Figure size 576x360 with 1 Axes>"
      ]
     },
     "metadata": {
      "needs_background": "light"
     },
     "output_type": "display_data"
    }
   ],
   "source": [
    "# threshold - 분류 기준을 의미 , Recall(재현율) 실제 positive인 것 중 올바르게 positive를 맞춘 비율 \n",
    "# Precision(정밀도)는 positive로 예측한 경우 중 올바르게 positive를 맞춘 비율\n",
    "error_df = pd.DataFrame({'Reconstruction_error': valid_mse,\n",
    "                        'True_class':list(VALIDATION_DF_RAW['attack'])})\n",
    "precision_rt, recall_rt, threshold_rt = metrics.precision_recall_curve(error_df['True_class'],error_df['Reconstruction_error'])\n",
    "\n",
    "plt.figure(figsize=(8,5))\n",
    "plt.plot(threshold_rt, precision_rt[1:], label='Precision')\n",
    "plt.plot(threshold_rt, recall_rt[1:], label='Recall')\n",
    "plt.xlabel('Treshold');plt.ylabel('Precision/Recall')\n",
    "plt.legend()"
   ]
  },
  {
   "cell_type": "code",
   "execution_count": null,
   "id": "d482b93c",
   "metadata": {},
   "outputs": [],
   "source": []
  }
 ],
 "metadata": {
  "kernelspec": {
   "display_name": "Python 3 (ipykernel)",
   "language": "python",
   "name": "python3"
  },
  "language_info": {
   "codemirror_mode": {
    "name": "ipython",
    "version": 3
   },
   "file_extension": ".py",
   "mimetype": "text/x-python",
   "name": "python",
   "nbconvert_exporter": "python",
   "pygments_lexer": "ipython3",
   "version": "3.9.12"
  }
 },
 "nbformat": 4,
 "nbformat_minor": 5
}
